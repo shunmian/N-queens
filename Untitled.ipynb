{
 "cells": [
  {
   "cell_type": "markdown",
   "metadata": {},
   "source": [
    "# 1. Problem: 8-queens problem\n",
    "> no queen align in vertical, horizontal and diagonal direction with other queens"
   ]
  },
  {
   "cell_type": "markdown",
   "metadata": {},
   "source": [
    "![alt text](8-queens.png \"Title\")"
   ]
  },
  {
   "cell_type": "markdown",
   "metadata": {},
   "source": [
    "# 2. Algorithm: DFS\n",
    "\n",
    "<img src=\"dfs.png\" alt=\"drawing\" style=\"height:280px;\"/>"
   ]
  },
  {
   "cell_type": "markdown",
   "metadata": {},
   "source": [
    "# 3. Code"
   ]
  },
  {
   "cell_type": "code",
   "execution_count": 1,
   "metadata": {},
   "outputs": [],
   "source": [
    "const N = 4"
   ]
  },
  {
   "cell_type": "code",
   "execution_count": 2,
   "metadata": {},
   "outputs": [
    {
     "name": "stdout",
     "output_type": "stream",
     "text": [
      "0\n",
      "1\n",
      "2\n"
     ]
    }
   ],
   "source": [
    "function* range (max) {\n",
    "    for (let i = 0; i < max; i++ ) yield i;\n",
    "}\n",
    "\n",
    "for (let i of range(3)){\n",
    "    console.log(i)\n",
    "}"
   ]
  },
  {
   "cell_type": "code",
   "execution_count": 3,
   "metadata": {},
   "outputs": [],
   "source": [
    "const isConflict = (solution, i) => {\n",
    "  for(let idx of range(solution.length)){\n",
    "    const itemI = solution[idx]\n",
    "    const itemJ = idx\n",
    "    const candidateI = i\n",
    "    const candidateJ = solution.length\n",
    "    if (candidateI === itemI || // horizontal conflict\n",
    "        candidateJ === itemJ || // vertical conflict\n",
    "        Math.abs(candidateI - itemI) === Math.abs(candidateJ - itemJ) // diagonal conflict\n",
    "    ) {\n",
    "      return true\n",
    "    }\n",
    "  }\n",
    "  return false\n",
    "}"
   ]
  },
  {
   "cell_type": "code",
   "execution_count": 4,
   "metadata": {},
   "outputs": [
    {
     "data": {
      "text/plain": [
       "[]"
      ]
     },
     "execution_count": 4,
     "metadata": {},
     "output_type": "execute_result"
    }
   ],
   "source": [
    "solutions = []\n",
    "const dfs = (solution = []) => {\n",
    "  if(solution.length === N) {\n",
    "    solutions.push(solution)\n",
    "    return\n",
    "  }\n",
    "  for (let i of range(N)) {\n",
    "    if (isConflict(solution, i)){\n",
    "      continue\n",
    "    }else {\n",
    "      dfs([...solution, i])\n",
    "    }\n",
    "  }\n",
    "}"
   ]
  },
  {
   "cell_type": "code",
   "execution_count": 9,
   "metadata": {},
   "outputs": [
    {
     "name": "stdout",
     "output_type": "stream",
     "text": [
      "[ [ 1, 3, 0, 2 ],\n",
      "  [ 2, 0, 3, 1 ],\n",
      "  [ 1, 3, 0, 2 ],\n",
      "  [ 2, 0, 3, 1 ],\n",
      "  [ 1, 3, 0, 2 ],\n",
      "  [ 2, 0, 3, 1 ],\n",
      "  [ 1, 3, 0, 2 ],\n",
      "  [ 2, 0, 3, 1 ] ]\n"
     ]
    }
   ],
   "source": [
    "dfs([], 0)\n",
    "console.log(solutions)"
   ]
  },
  {
   "cell_type": "code",
   "execution_count": 7,
   "metadata": {},
   "outputs": [],
   "source": [
    "const toString = (solution) => {\n",
    "  let s = ''\n",
    "  for (let j of range(N)){\n",
    "    for (let i of range(N)){\n",
    "      solution[j] === i ? s = s + ' Q' : s = s + ' *'\n",
    "    }\n",
    "    s = s + '\\n'\n",
    "  }\n",
    "  return s\n",
    "}"
   ]
  },
  {
   "cell_type": "code",
   "execution_count": 10,
   "metadata": {},
   "outputs": [
    {
     "name": "stdout",
     "output_type": "stream",
     "text": [
      " * Q * *\n",
      " * * * Q\n",
      " Q * * *\n",
      " * * Q *\n",
      "\n",
      " * * Q *\n",
      " Q * * *\n",
      " * * * Q\n",
      " * Q * *\n",
      "\n",
      " * Q * *\n",
      " * * * Q\n",
      " Q * * *\n",
      " * * Q *\n",
      "\n",
      " * * Q *\n",
      " Q * * *\n",
      " * * * Q\n",
      " * Q * *\n",
      "\n",
      " * Q * *\n",
      " * * * Q\n",
      " Q * * *\n",
      " * * Q *\n",
      "\n",
      " * * Q *\n",
      " Q * * *\n",
      " * * * Q\n",
      " * Q * *\n",
      "\n",
      " * Q * *\n",
      " * * * Q\n",
      " Q * * *\n",
      " * * Q *\n",
      "\n",
      " * * Q *\n",
      " Q * * *\n",
      " * * * Q\n",
      " * Q * *\n",
      "\n",
      " * Q * *\n",
      " * * * Q\n",
      " Q * * *\n",
      " * * Q *\n",
      "\n",
      " * * Q *\n",
      " Q * * *\n",
      " * * * Q\n",
      " * Q * *\n",
      "\n"
     ]
    }
   ],
   "source": [
    "dfs([], 0)\n",
    "for (let solution of solutions){\n",
    "  console.log(toString(solution))\n",
    "}"
   ]
  },
  {
   "cell_type": "code",
   "execution_count": null,
   "metadata": {},
   "outputs": [],
   "source": []
  }
 ],
 "metadata": {
  "kernelspec": {
   "display_name": "Javascript (Node.js)",
   "language": "javascript",
   "name": "javascript"
  },
  "language_info": {
   "file_extension": ".js",
   "mimetype": "application/javascript",
   "name": "javascript",
   "version": "6.11.1"
  }
 },
 "nbformat": 4,
 "nbformat_minor": 2
}
